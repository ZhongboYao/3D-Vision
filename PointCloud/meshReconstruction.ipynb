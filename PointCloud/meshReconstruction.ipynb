{
 "cells": [
  {
   "cell_type": "code",
   "execution_count": 9,
   "id": "3f4ee95b",
   "metadata": {},
   "outputs": [],
   "source": [
    "import numpy as np\n",
    "import open3d as o3d"
   ]
  },
  {
   "cell_type": "code",
   "execution_count": 10,
   "id": "3b23b149",
   "metadata": {},
   "outputs": [],
   "source": [
    "pcd = o3d.io.read_point_cloud('registered_bunny.ply')"
   ]
  },
  {
   "cell_type": "markdown",
   "id": "2d4885df",
   "metadata": {},
   "source": [
    "# Poisson Mesh Reconstruction"
   ]
  },
  {
   "cell_type": "code",
   "execution_count": null,
   "id": "fc023daa",
   "metadata": {},
   "outputs": [
    {
     "name": "stderr",
     "output_type": "stream",
     "text": [
      "2025-07-06 08:48:42.613 python[1524:2552348] +[IMKInputSession subclass]: chose IMKInputSession_Modern\n"
     ]
    }
   ],
   "source": [
    "pcd.estimate_normals(search_param=o3d.geometry.KDTreeSearchParamHybrid(\n",
    "    radius=0.01, max_nn=30))\n",
    "pcd.orient_normals_consistent_tangent_plane(k=10)\n",
    "\n",
    "# Step 3: Poisson reconstruction\n",
    "mesh, densities = o3d.geometry.TriangleMesh.create_from_point_cloud_poisson(\n",
    "    pcd, depth=7)  # You can tweak 'depth' for detail level\n",
    "mesh.paint_uniform_color([1.0, 1.0, 1.0])  # RGB values: white\n",
    "mesh.compute_vertex_normals()\n",
    "# Optional: Crop the mesh using a bounding box (to remove unwanted mesh parts)\n",
    "bbox = pcd.get_axis_aligned_bounding_box()\n",
    "mesh_crop = mesh.crop(bbox)\n",
    "\n",
    "# Step 4: Visualize the result\n",
    "o3d.visualization.draw_geometries([mesh_crop])\n",
    "\n",
    "# # Optional: Save result\n",
    "# o3d.io.write_triangle_mesh(\"poisson_mesh.ply\", mesh_crop)"
   ]
  },
  {
   "cell_type": "code",
   "execution_count": null,
   "id": "fea2604a",
   "metadata": {},
   "outputs": [],
   "source": []
  }
 ],
 "metadata": {
  "kernelspec": {
   "display_name": "CV3D",
   "language": "python",
   "name": "python3"
  },
  "language_info": {
   "codemirror_mode": {
    "name": "ipython",
    "version": 3
   },
   "file_extension": ".py",
   "mimetype": "text/x-python",
   "name": "python",
   "nbconvert_exporter": "python",
   "pygments_lexer": "ipython3",
   "version": "3.10.18"
  }
 },
 "nbformat": 4,
 "nbformat_minor": 5
}
