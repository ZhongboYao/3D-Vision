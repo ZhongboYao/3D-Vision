{
 "cells": [
  {
   "cell_type": "code",
   "execution_count": 17,
   "id": "08df545f",
   "metadata": {},
   "outputs": [],
   "source": [
    "import open3d as o3d\n",
    "import numpy as np\n",
    "from collections import defaultdict\n",
    "\n",
    "from open3d.geometry import PointCloud"
   ]
  },
  {
   "cell_type": "markdown",
   "id": "50c85d70",
   "metadata": {},
   "source": [
    "# Voxel Downsampling\n",
    "Group points into voxels and use the centroid for each voxel."
   ]
  },
  {
   "cell_type": "code",
   "execution_count": 4,
   "id": "bf757b73",
   "metadata": {},
   "outputs": [],
   "source": [
    "pcd = o3d.io.read_point_cloud('registered_bunny.ply')\n",
    "voxel_size = 0.001  \n",
    "pcd_down = pcd.voxel_down_sample(voxel_size=voxel_size)\n",
    "o3d.visualization.draw_geometries([pcd_down])"
   ]
  },
  {
   "cell_type": "markdown",
   "id": "bff3d992",
   "metadata": {},
   "source": [
    "# Random Downsampling"
   ]
  },
  {
   "cell_type": "code",
   "execution_count": 8,
   "id": "b550bed0",
   "metadata": {},
   "outputs": [],
   "source": [
    "pcd = o3d.io.read_point_cloud(\"registered_bunny.ply\") \n",
    "N = len(pcd.points)\n",
    "\n",
    "# Set sampling ratio\n",
    "ratio = 0.1\n",
    "M = int(N * ratio)\n",
    "\n",
    "indices = np.random.choice(N, M, replace=False)\n",
    "sampled_pcd = pcd.select_by_index(indices)\n",
    "\n",
    "o3d.visualization.draw_geometries([sampled_pcd], window_name=\"Random Sampled Point Cloud\")"
   ]
  },
  {
   "cell_type": "markdown",
   "id": "0d64694b",
   "metadata": {},
   "source": [
    "# Uniform Sampling"
   ]
  },
  {
   "cell_type": "code",
   "execution_count": 9,
   "id": "a113db8f",
   "metadata": {},
   "outputs": [],
   "source": [
    "pcd = o3d.io.read_point_cloud(\"registered_bunny.ply\") \n",
    "downsampled_pcd = pcd.uniform_down_sample(every_k_points=5)\n",
    "o3d.visualization.draw_geometries([downsampled_pcd])"
   ]
  },
  {
   "cell_type": "markdown",
   "id": "c1015fde",
   "metadata": {},
   "source": [
    "# FPS\n",
    "Select points as far as possible.\n",
    "Use an appropriate M to coverage the geometric information."
   ]
  },
  {
   "cell_type": "code",
   "execution_count": 14,
   "id": "ae41a7c3",
   "metadata": {},
   "outputs": [],
   "source": [
    "pcd = o3d.io.read_point_cloud(\"registered_bunny.ply\") \n",
    "downsampled = pcd.farthest_point_down_sample(num_samples=1000)\n",
    "o3d.visualization.draw_geometries([downsampled])"
   ]
  },
  {
   "cell_type": "markdown",
   "id": "a45d07d3",
   "metadata": {},
   "source": [
    "# Grid Minimum/Maximum Sampling\n",
    "Instead of choosing the centroid like Voxel Sampling, this method chooses the point with the minimum/maximum height in the grid."
   ]
  },
  {
   "cell_type": "code",
   "execution_count": null,
   "id": "2e02e27c",
   "metadata": {},
   "outputs": [],
   "source": [
    "def grid_min_max_sampling(pcd: PointCloud, voxel_size: float = 0.001, mode: str = 'min'):\n",
    "    \"\"\"\n",
    "    Grid Minimum/Maximum Sampling for a point cloud.\n",
    "    \n",
    "    Args:\n",
    "        pcd (PointCloud): \n",
    "            Input point cloud.\n",
    "        voxel_size (float): \n",
    "            Size of voxel grid.\n",
    "        mode (str): \n",
    "            'min' for minimum z sampling, 'max' for maximum z sampling.\n",
    "    \n",
    "    Returns:\n",
    "        samled_pcd (PointCloud): \n",
    "            Downsampled point cloud.\n",
    "    \"\"\"    \n",
    "    points = np.asarray(pcd.points)\n",
    "    voxel_dict = defaultdict(list)\n",
    "    \n",
    "\n",
    "    voxel_indices = np.floor(points[:, :3] / voxel_size).astype(np.int32)\n",
    "\n",
    "    for idx, voxel in enumerate(voxel_indices):\n",
    "        voxel_key = tuple(voxel)\n",
    "        voxel_dict[voxel_key].append(points[idx])\n",
    "\n",
    "    # 2. Select min or max point (based on z) from each voxel\n",
    "    sampled_points = []\n",
    "    for pts in voxel_dict.values():\n",
    "        pts = np.array(pts)\n",
    "        if mode == 'min':\n",
    "            selected = pts[np.argmin(pts[:, 2])]  # Min z\n",
    "        else:\n",
    "            selected = pts[np.argmax(pts[:, 2])]  # Max z\n",
    "        sampled_points.append(selected)\n",
    "\n",
    "    # 3. Return new point cloud\n",
    "    sampled_pcd = o3d.geometry.PointCloud()\n",
    "    sampled_pcd.points = o3d.utility.Vector3dVector(np.array(sampled_points))\n",
    "    return sampled_pcd"
   ]
  },
  {
   "cell_type": "code",
   "execution_count": 33,
   "id": "d0f05dac",
   "metadata": {},
   "outputs": [
    {
     "name": "stdout",
     "output_type": "stream",
     "text": [
      "[-0.01525    0.187218  -0.0237782]\n",
      "[[-16 187 -24]\n",
      " [-17 187 -21]\n",
      " [-18 187 -20]\n",
      " ...\n",
      " [-25 111 -21]\n",
      " [ 26 112 -12]\n",
      " [-83 150   4]]\n"
     ]
    }
   ],
   "source": [
    "sampled = grid_min_max_sampling(pcd)\n",
    "o3d.visualization.draw_geometries([sampled])"
   ]
  },
  {
   "cell_type": "code",
   "execution_count": null,
   "id": "4e150abd",
   "metadata": {},
   "outputs": [],
   "source": []
  }
 ],
 "metadata": {
  "kernelspec": {
   "display_name": "CV3D",
   "language": "python",
   "name": "python3"
  },
  "language_info": {
   "codemirror_mode": {
    "name": "ipython",
    "version": 3
   },
   "file_extension": ".py",
   "mimetype": "text/x-python",
   "name": "python",
   "nbconvert_exporter": "python",
   "pygments_lexer": "ipython3",
   "version": "3.10.18"
  }
 },
 "nbformat": 4,
 "nbformat_minor": 5
}
