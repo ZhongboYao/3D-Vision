{
 "cells": [
  {
   "cell_type": "code",
   "execution_count": 66,
   "id": "66110d4b",
   "metadata": {},
   "outputs": [],
   "source": [
    "import numpy as np\n",
    "import open3d as o3d\n",
    "import os\n",
    "import glob\n",
    "import random\n",
    "\n",
    "from open3d.geometry import PointCloud\n",
    "from open3d.pipelines.registration import Feature, RegistrationResult\n",
    "\n",
    "from typing import List"
   ]
  },
  {
   "cell_type": "markdown",
   "id": "b8974f1f",
   "metadata": {},
   "source": [
    "# FPFH + RANSAC + PlaneICP Pipeline\n",
    "The merged result turns good only after great effort in finetuning the hyperparameters and looking for the best merging order.<br>\n",
    "It is because of the unreliability of features captured by FPFH, which frequently lead to misalignment especially when there are highly symmetric features or insufficient overlapping points. <br>"
   ]
  },
  {
   "cell_type": "code",
   "execution_count": 67,
   "id": "3bf4a633",
   "metadata": {},
   "outputs": [],
   "source": [
    "folder_path = \"bunny/data\" \n",
    "ply_files = sorted(glob.glob(os.path.join(folder_path, \"*.ply\")))"
   ]
  },
  {
   "cell_type": "code",
   "execution_count": 68,
   "id": "84042159",
   "metadata": {},
   "outputs": [],
   "source": [
    "# Eliminate randomness for reproducibility\n",
    "random.seed(42)              \n",
    "np.random.seed(42)            \n",
    "o3d.utility.random.seed(42)  "
   ]
  },
  {
   "cell_type": "markdown",
   "id": "06a09b31",
   "metadata": {},
   "source": [
    "Hyperparameters"
   ]
  },
  {
   "cell_type": "code",
   "execution_count": 69,
   "id": "a35706f6",
   "metadata": {},
   "outputs": [],
   "source": [
    "voxel_size = 0.005\n",
    "\n",
    "# Coefficient for various voxel sizes\n",
    "e_downsample = 0.5\n",
    "e_normal = 2 # The range of neighbored points to be considered when estimating normal vectors using PCA\n",
    "e_fpfh = 4 \n",
    "e_gr = 2 # Correspondance range factor\n",
    "e_ICP = 2\n",
    "\n",
    "n_sample = 4 # Minimal samples required for RANSAC.\n",
    "# Coefficients for RANSAC filter constraints.\n",
    "ctr_len = 0.9 \n",
    "ctr_e_gr = 2\n",
    "ctr_ang = 40\n",
    "\n",
    "normal_nn = 30 # Maximum neighbors considered by PCA in normal estimation.\n",
    "fpfh_nn = 100"
   ]
  },
  {
   "cell_type": "code",
   "execution_count": 70,
   "id": "fae3a55c",
   "metadata": {},
   "outputs": [],
   "source": [
    "def pcd_preprocess(pcd: PointCloud) -> PointCloud:\n",
    "    \"\"\"\n",
    "    Preprocess point cloud by downsampling and estimate normals for all the points.\n",
    "\n",
    "    Arguments:\n",
    "        pcd (PointCloud):\n",
    "            The pointcloud to process.\n",
    "\n",
    "    Returns:\n",
    "        pcd_down (PointCloud):\n",
    "            Processed pointcloud.\n",
    "    \"\"\"\n",
    "    # Downsample\n",
    "    pcd_down = pcd.voxel_down_sample(voxel_size * e_downsample)\n",
    "    # Normal vectors estimation.\n",
    "    # Use KDTree to efficiently find knn.\n",
    "    pcd_down.estimate_normals(o3d.geometry.KDTreeSearchParamHybrid(radius=voxel_size * e_normal, max_nn=normal_nn))\n",
    "    return pcd_down"
   ]
  },
  {
   "cell_type": "code",
   "execution_count": 71,
   "id": "c1c72776",
   "metadata": {},
   "outputs": [],
   "source": [
    "def fpfh_descriptor(pcd: PointCloud) -> Feature:\n",
    "    \"\"\"\n",
    "    Generate FPFH feature descriptors for the pointcloud.\n",
    "\n",
    "    Arguments:\n",
    "        pcd (PointCloud):\n",
    "            Point cloud to extract features.\n",
    "    \n",
    "    Returns:\n",
    "        fpfh_features (Features):\n",
    "            Extracted FPFH feature descriptors.\n",
    "    \"\"\"\n",
    "    # Use KDTree to efficiently find neighbors for aggregating information measured by Darboux frame in the histogram.\n",
    "    fpfh_features = o3d.pipelines.registration.compute_fpfh_feature(\n",
    "        pcd, o3d.geometry.KDTreeSearchParamHybrid(radius=voxel_size * e_fpfh, max_nn=fpfh_nn))\n",
    "    return fpfh_features"
   ]
  },
  {
   "cell_type": "code",
   "execution_count": 72,
   "id": "18381a40",
   "metadata": {},
   "outputs": [],
   "source": [
    "def global_registration(\n",
    "        pcd_source: PointCloud, fpfh_source: Feature, pcd_target: PointCloud, fpfh_target: Feature) -> RegistrationResult:\n",
    "    \"\"\"\n",
    "    Use global registration with RANSAC to get initial estimation of R and t to register the source cloud to the target.\n",
    "\n",
    "    Arguments:\n",
    "        pcd_source (PointCloud):\n",
    "            Source that going to be aligned.\n",
    "        fpfh_source (Feature):\n",
    "            FPFH feauture descriptors of the source PointCloud.\n",
    "        pcd_target (PointCloud):\n",
    "            Target to which the point cloud will be registered.\n",
    "        fpfh_target (Feature):\n",
    "            FPFH features of the target point cloud.\n",
    "\n",
    "    Returns: \n",
    "        result (RegistrationResult):\n",
    "            The result of registration, containing important information like R and t.\n",
    "    \"\"\"\n",
    "\n",
    "    # Criteria of RANSAC for fitting Rt.\n",
    "    criteria = o3d.pipelines.registration.RANSACConvergenceCriteria(\n",
    "        max_iteration=100000,  # Max amount of trials allowed\n",
    "        confidence=0.999    # Confidence that the found model is correct. \n",
    "    )\n",
    "    \n",
    "    result = o3d.pipelines.registration.registration_ransac_based_on_feature_matching(\n",
    "        pcd_source, pcd_target,\n",
    "        fpfh_source, fpfh_target,\n",
    "        False, # Mutual Correspondence: whether the found conrrespondences should have symmetric distances.\n",
    "        max_correspondence_distance=voxel_size * e_gr, # Point pairs whose internal distances are lager than this will be excluded for correspondences.\n",
    "        estimation_method=o3d.pipelines.registration.TransformationEstimationPointToPoint(False), # Use point to point distances, scale is enabled if partials have various scaling sizes.\n",
    "        ransac_n=n_sample, # #Samples of RANSAC initial choices.\n",
    "        checkers=[\n",
    "            # o3d.pipelines.registration.CorrespondenceCheckerBasedOnEdgeLength(ctr_len), # Edges within the target and the source shoudl have similar edge lengths.\n",
    "            o3d.pipelines.registration.CorrespondenceCheckerBasedOnDistance(voxel_size * ctr_e_gr), # Point to point distances should be small.\n",
    "            # o3d.pipelines.registration.CorrespondenceCheckerBasedOnNormal(ctr_ang) # Normals should have similar directions\n",
    "        ],\n",
    "        criteria=criteria\n",
    "    )\n",
    "    return result"
   ]
  },
  {
   "cell_type": "code",
   "execution_count": 73,
   "id": "52176953",
   "metadata": {},
   "outputs": [],
   "source": [
    "def planeICP(source: PointCloud, target:PointCloud, gr_result: RegistrationResult) -> RegistrationResult:\n",
    "    \"\"\"\n",
    "    Refine the registration result using point to plane ICP, which is usually more robust than point to point ICP.\n",
    "\n",
    "    Arguments:\n",
    "        source (PointCloud):\n",
    "            Source\n",
    "        target (PointCloud):\n",
    "            Target\n",
    "        gr_result (RegistrationResult):\n",
    "            The result from global assignment\n",
    "\n",
    "    Returns:\n",
    "        result_icp (RegistrationResult):\n",
    "            The refined result using planeICP.\n",
    "    \"\"\"\n",
    "    result_icp = o3d.pipelines.registration.registration_icp(\n",
    "        source, target,\n",
    "        max_correspondence_distance=voxel_size * e_ICP,\n",
    "        init=gr_result.transformation, \n",
    "        estimation_method=o3d.pipelines.registration.TransformationEstimationPointToPlane()\n",
    "    )\n",
    "\n",
    "    return result_icp"
   ]
  },
  {
   "cell_type": "code",
   "execution_count": 74,
   "id": "8d47a44c",
   "metadata": {},
   "outputs": [],
   "source": [
    "def merge_point_clouds(pcd1: PointCloud, pcd2: PointCloud) -> PointCloud:\n",
    "    \"\"\"\n",
    "    Merge 2 pointclouds together with their normal and colors, if they have.\n",
    "    Then downsample the points.\n",
    "\n",
    "    Arguments:\n",
    "        pcd1,pcd2 (PointCloud):\n",
    "            2 PointClouds to merge.\n",
    "        \n",
    "    Returns:\n",
    "        merged_down (PointCloud):\n",
    "            The merged point cloud.\n",
    "    \"\"\"\n",
    "    merged = o3d.geometry.PointCloud()\n",
    "\n",
    "    merged.points = o3d.utility.Vector3dVector(\n",
    "        np.vstack([np.asarray(pcd1.points), np.asarray(pcd2.points)])\n",
    "    )\n",
    "    \n",
    "    if pcd1.has_normals() and pcd2.has_normals():\n",
    "        merged.normals = o3d.utility.Vector3dVector(\n",
    "            np.vstack([np.asarray(pcd1.normals), np.asarray(pcd2.normals)])\n",
    "        )\n",
    "\n",
    "    if pcd1.has_colors() and pcd2.has_colors():\n",
    "        merged.colors = o3d.utility.Vector3dVector(\n",
    "            np.vstack([np.asarray(pcd1.colors), np.asarray(pcd2.colors)])\n",
    "        )\n",
    "\n",
    "    # merged_down = merged.voxel_down_sample(voxel_size * e_downsample)\n",
    "\n",
    "    return merged"
   ]
  },
  {
   "cell_type": "code",
   "execution_count": 75,
   "id": "be397e2d",
   "metadata": {},
   "outputs": [],
   "source": [
    "def incremental_registration(pcds: List[PointCloud], fpfhs: List[RegistrationResult]) -> PointCloud:\n",
    "    \"\"\"\n",
    "    Register a list of point clouds incrementally, using FPFH + Global Registration + PlaneICP.\n",
    "\n",
    "    Arguments:\n",
    "        pcds (List[PointCloud]):\n",
    "            The list of point clouds to merge.\n",
    "        fpfhs (List[Feature]):\n",
    "            The list of corresponding FPFH features\n",
    "\n",
    "    Returns:\n",
    "        target (PointCloud):\n",
    "            The merged point cloud.\n",
    "    \"\"\"\n",
    "    # Use the first item as the initial target.\n",
    "    target = pcds[0]\n",
    "    fpfh_target = fpfhs[0]\n",
    "    \n",
    "    for source_ind in range(1, len(pcds)):\n",
    "        source = pcds[source_ind]\n",
    "        fpfh_source = fpfhs[source_ind]\n",
    "        \n",
    "        result_gr = global_registration(source, fpfh_source, target, fpfh_target)\n",
    "        result_ICP = planeICP(source, target, result_gr)\n",
    "\n",
    "        source.transform(result_ICP.transformation)\n",
    "\n",
    "        target = merge_point_clouds(target, source)  \n",
    "        fpfh_target = fpfh_descriptor(target) # Recalculate the FPFH feature of the merged target.\n",
    "\n",
    "    return target"
   ]
  },
  {
   "cell_type": "code",
   "execution_count": 76,
   "id": "fe55143e",
   "metadata": {},
   "outputs": [],
   "source": [
    "pcds = [o3d.io.read_point_cloud(ply_file) for ply_file in ply_files]\n",
    "pcds_preprocessed = [pcd_preprocess(pcd) for pcd in pcds]\n",
    "fpfhs = [fpfh_descriptor(pcd_preprocessed) for pcd_preprocessed in pcds_preprocessed]"
   ]
  },
  {
   "cell_type": "code",
   "execution_count": 77,
   "id": "1e004b50",
   "metadata": {},
   "outputs": [],
   "source": [
    "indices = [0, 1, 5, 9, 2, 3, 4, 6, 7, 8]\n",
    "pcds_ordered = [pcds_preprocessed[i] for i in indices]\n",
    "fpfhs_ordered = [fpfhs[i] for i in indices]\n",
    "merged_pcd = incremental_registration(pcds_ordered, fpfhs_ordered)\n",
    "o3d.visualization.draw_geometries([merged_pcd])"
   ]
  },
  {
   "cell_type": "code",
   "execution_count": 78,
   "id": "0cc8b0d9",
   "metadata": {},
   "outputs": [
    {
     "data": {
      "text/plain": [
       "True"
      ]
     },
     "execution_count": 78,
     "metadata": {},
     "output_type": "execute_result"
    }
   ],
   "source": [
    "o3d.io.write_point_cloud(\"registered_bunny.ply\", merged_pcd)"
   ]
  }
 ],
 "metadata": {
  "kernelspec": {
   "display_name": "CV3D",
   "language": "python",
   "name": "python3"
  },
  "language_info": {
   "codemirror_mode": {
    "name": "ipython",
    "version": 3
   },
   "file_extension": ".py",
   "mimetype": "text/x-python",
   "name": "python",
   "nbconvert_exporter": "python",
   "pygments_lexer": "ipython3",
   "version": "3.10.18"
  }
 },
 "nbformat": 4,
 "nbformat_minor": 5
}
